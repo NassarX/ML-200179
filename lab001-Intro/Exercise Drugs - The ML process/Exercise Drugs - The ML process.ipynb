{
 "cells": [
  {
   "cell_type": "markdown",
   "metadata": {},
   "source": [
    "# The Machine Learning process"
   ]
  },
  {
   "cell_type": "markdown",
   "metadata": {},
   "source": [
    "<img src=\"images/process_ML.png\" alt=\"Drawing\" style=\"width: 1000px;\"/>"
   ]
  },
  {
   "cell_type": "markdown",
   "metadata": {},
   "source": [
    "# 0. Identify Business needs\n",
    "\n",
    "First of all, we need to identify well the business needs."
   ]
  },
  {
   "cell_type": "markdown",
   "metadata": {},
   "source": [
    "<img src=\"images/phase01.png\" alt=\"Drawing\" style=\"width: 500px;\"/>"
   ]
  },
  {
   "cell_type": "markdown",
   "metadata": {},
   "source": [
    "We already saw this in the exercise of the previous class."
   ]
  },
  {
   "cell_type": "markdown",
   "metadata": {},
   "source": [
    "# 1. Import the needed libraries"
   ]
  },
  {
   "cell_type": "markdown",
   "metadata": {},
   "source": [
    "The first step is always to import the needed libraries that we are going to use.\n",
    "- The library `pandas` is a library used for data manipulation and analysis.\n",
    "- In the end, we are going to try to apply a Decision Tree Classifier. In that way, we need to import from `sklearn.tree`a `DecisionTreeClassifier`\n",
    "- Since we are going to create a predictive model, we need to split our data into at least two datasets: the train dataset (used to built the model) and the validation dataset (used to evaluate the performance of our model). As so, we need to import the function `train_test_split`from `sklearn.model_selection`\n",
    "- Finally, we want to assess the quality of our model. This time we are going to import the `confusion_matrix` from `sklearn.metrics`\n",
    "\n",
    "\n",
    "__`Step 1`__ Import the following libraries/functions: \n",
    "    - pandas as pd \n",
    "    - DecisionTreeClassifier from sklearn.tree\n",
    "    - train_test_split from sklearn.model_selection\n",
    "    - confusion_matrix from sklearn.metrics"
   ]
  },
  {
   "cell_type": "code",
   "execution_count": 1,
   "metadata": {},
   "outputs": [],
   "source": [
    "import pandas as pd\n",
    "from sklearn.tree import DecisionTreeClassifier\n",
    "from sklearn.model_selection import train_test_split\n",
    "from sklearn.metrics import confusion_matrix"
   ]
  },
  {
   "cell_type": "markdown",
   "metadata": {},
   "source": [
    "# 2. Import data"
   ]
  },
  {
   "cell_type": "markdown",
   "metadata": {},
   "source": [
    "<img src=\"images/phase02.png\" alt=\"Drawing\" style=\"width: 500px;\"/>"
   ]
  },
  {
   "cell_type": "markdown",
   "metadata": {},
   "source": [
    "The second step is to import our data. To do that, we can use the pandas library."
   ]
  },
  {
   "cell_type": "markdown",
   "metadata": {},
   "source": [
    "__`Step 2`__ Import the sheet `ClassifiedData` from the excel file `Exercise1.xlsx` and store it in the object `drugs_truth`"
   ]
  },
  {
   "cell_type": "code",
   "execution_count": 2,
   "metadata": {},
   "outputs": [
    {
     "data": {
      "text/plain": "         ID   BD1  BD2  BD3     BD4  BD5  BD6  BD7  BD8   BD9  DrugPlant\n0      1001   789   68   16   90782    0    0   29   66  1402          0\n1      1002   623   78   20  113023    0    0   31    6  1537          0\n2      1003   583   24   18   28344    1    0    4   69    44          0\n3      1004   893   59   19   93571    0    1   21   10   888          0\n4      1006   792   32   20   22386    1    1    5   65    56          0\n...     ...   ...  ...  ...     ...  ...  ...  ...  ...   ...        ...\n7995  10995  1025   39   15   58121    1    1    4    6    61          0\n7996  10996   967   28   17   54292    0    0   23   72  1011          1\n7997  10997   637   76   15  125962    0    1   33   75  1668          0\n7998  10998   586   69   19   99628    0    0   30   98  1469          0\n7999  10999   598   65   14  111018    1    0   28    4  1350          0\n\n[8000 rows x 11 columns]",
      "text/html": "<div>\n<style scoped>\n    .dataframe tbody tr th:only-of-type {\n        vertical-align: middle;\n    }\n\n    .dataframe tbody tr th {\n        vertical-align: top;\n    }\n\n    .dataframe thead th {\n        text-align: right;\n    }\n</style>\n<table border=\"1\" class=\"dataframe\">\n  <thead>\n    <tr style=\"text-align: right;\">\n      <th></th>\n      <th>ID</th>\n      <th>BD1</th>\n      <th>BD2</th>\n      <th>BD3</th>\n      <th>BD4</th>\n      <th>BD5</th>\n      <th>BD6</th>\n      <th>BD7</th>\n      <th>BD8</th>\n      <th>BD9</th>\n      <th>DrugPlant</th>\n    </tr>\n  </thead>\n  <tbody>\n    <tr>\n      <th>0</th>\n      <td>1001</td>\n      <td>789</td>\n      <td>68</td>\n      <td>16</td>\n      <td>90782</td>\n      <td>0</td>\n      <td>0</td>\n      <td>29</td>\n      <td>66</td>\n      <td>1402</td>\n      <td>0</td>\n    </tr>\n    <tr>\n      <th>1</th>\n      <td>1002</td>\n      <td>623</td>\n      <td>78</td>\n      <td>20</td>\n      <td>113023</td>\n      <td>0</td>\n      <td>0</td>\n      <td>31</td>\n      <td>6</td>\n      <td>1537</td>\n      <td>0</td>\n    </tr>\n    <tr>\n      <th>2</th>\n      <td>1003</td>\n      <td>583</td>\n      <td>24</td>\n      <td>18</td>\n      <td>28344</td>\n      <td>1</td>\n      <td>0</td>\n      <td>4</td>\n      <td>69</td>\n      <td>44</td>\n      <td>0</td>\n    </tr>\n    <tr>\n      <th>3</th>\n      <td>1004</td>\n      <td>893</td>\n      <td>59</td>\n      <td>19</td>\n      <td>93571</td>\n      <td>0</td>\n      <td>1</td>\n      <td>21</td>\n      <td>10</td>\n      <td>888</td>\n      <td>0</td>\n    </tr>\n    <tr>\n      <th>4</th>\n      <td>1006</td>\n      <td>792</td>\n      <td>32</td>\n      <td>20</td>\n      <td>22386</td>\n      <td>1</td>\n      <td>1</td>\n      <td>5</td>\n      <td>65</td>\n      <td>56</td>\n      <td>0</td>\n    </tr>\n    <tr>\n      <th>...</th>\n      <td>...</td>\n      <td>...</td>\n      <td>...</td>\n      <td>...</td>\n      <td>...</td>\n      <td>...</td>\n      <td>...</td>\n      <td>...</td>\n      <td>...</td>\n      <td>...</td>\n      <td>...</td>\n    </tr>\n    <tr>\n      <th>7995</th>\n      <td>10995</td>\n      <td>1025</td>\n      <td>39</td>\n      <td>15</td>\n      <td>58121</td>\n      <td>1</td>\n      <td>1</td>\n      <td>4</td>\n      <td>6</td>\n      <td>61</td>\n      <td>0</td>\n    </tr>\n    <tr>\n      <th>7996</th>\n      <td>10996</td>\n      <td>967</td>\n      <td>28</td>\n      <td>17</td>\n      <td>54292</td>\n      <td>0</td>\n      <td>0</td>\n      <td>23</td>\n      <td>72</td>\n      <td>1011</td>\n      <td>1</td>\n    </tr>\n    <tr>\n      <th>7997</th>\n      <td>10997</td>\n      <td>637</td>\n      <td>76</td>\n      <td>15</td>\n      <td>125962</td>\n      <td>0</td>\n      <td>1</td>\n      <td>33</td>\n      <td>75</td>\n      <td>1668</td>\n      <td>0</td>\n    </tr>\n    <tr>\n      <th>7998</th>\n      <td>10998</td>\n      <td>586</td>\n      <td>69</td>\n      <td>19</td>\n      <td>99628</td>\n      <td>0</td>\n      <td>0</td>\n      <td>30</td>\n      <td>98</td>\n      <td>1469</td>\n      <td>0</td>\n    </tr>\n    <tr>\n      <th>7999</th>\n      <td>10999</td>\n      <td>598</td>\n      <td>65</td>\n      <td>14</td>\n      <td>111018</td>\n      <td>1</td>\n      <td>0</td>\n      <td>28</td>\n      <td>4</td>\n      <td>1350</td>\n      <td>0</td>\n    </tr>\n  </tbody>\n</table>\n<p>8000 rows × 11 columns</p>\n</div>"
     },
     "execution_count": 2,
     "metadata": {},
     "output_type": "execute_result"
    }
   ],
   "source": [
    "drugs_truth = pd.read_excel('Exercise1.xlsx', sheet_name = 'ClassifiedData')\n",
    "drugs_truth"
   ]
  },
  {
   "cell_type": "markdown",
   "metadata": {},
   "source": [
    "__`Step 3`__ Import the sheet `Data2Classify` from the excel file `Exercise1.xlsx` and store it in the object `drugs_2classify`"
   ]
  },
  {
   "cell_type": "code",
   "execution_count": 1,
   "metadata": {},
   "outputs": [
    {
     "ename": "NameError",
     "evalue": "name 'pd' is not defined",
     "output_type": "error",
     "traceback": [
      "\u001B[0;31m---------------------------------------------------------------------------\u001B[0m",
      "\u001B[0;31mNameError\u001B[0m                                 Traceback (most recent call last)",
      "Cell \u001B[0;32mIn [1], line 1\u001B[0m\n\u001B[0;32m----> 1\u001B[0m drugs_2classify \u001B[39m=\u001B[39m pd\u001B[39m.\u001B[39mread_excel(\u001B[39m'\u001B[39m\u001B[39mExercise1.xlsx\u001B[39m\u001B[39m'\u001B[39m, sheet_name \u001B[39m=\u001B[39m \u001B[39m'\u001B[39m\u001B[39mData2Classify\u001B[39m\u001B[39m'\u001B[39m)\n\u001B[1;32m      2\u001B[0m drugs_2classify\n",
      "\u001B[0;31mNameError\u001B[0m: name 'pd' is not defined"
     ]
    }
   ],
   "source": [
    "drugs_2classify = pd.read_excel('Exercise1.xlsx', sheet_name = 'Data2Classify')\n",
    "drugs_2classify"
   ]
  },
  {
   "cell_type": "markdown",
   "metadata": {},
   "source": [
    "# 3. Explore the data\n",
    "\n",
    "It is time to explore and understand the data we have."
   ]
  },
  {
   "cell_type": "markdown",
   "metadata": {},
   "source": [
    "<img src=\"images/phase03.png\" alt=\"Drawing\" style=\"width: 500px;\"/>"
   ]
  },
  {
   "cell_type": "markdown",
   "metadata": {},
   "source": [
    "__`Step 4`__ Check the first five rows of the dataset `drugs_truth` using the method `.head()`"
   ]
  },
  {
   "cell_type": "code",
   "execution_count": null,
   "metadata": {},
   "outputs": [],
   "source": [
    "drugs_truth.head()"
   ]
  },
  {
   "cell_type": "markdown",
   "metadata": {},
   "source": [
    "__`Step 5`__ Using the method `.info()`, check the data types of the variables of `drugs_truth` and if there are any missing values."
   ]
  },
  {
   "cell_type": "code",
   "execution_count": null,
   "metadata": {},
   "outputs": [],
   "source": [
    "drugs_truth.info()"
   ]
  },
  {
   "cell_type": "markdown",
   "metadata": {},
   "source": [
    "__`Step 6`__ Get the main descriptive statistics for all the variables in `drugs_truth` using the method `.describe()`"
   ]
  },
  {
   "cell_type": "code",
   "execution_count": null,
   "metadata": {},
   "outputs": [],
   "source": [
    "drugs_truth.describe()"
   ]
  },
  {
   "cell_type": "markdown",
   "metadata": {},
   "source": [
    "__NOTE:__ In this dataset we don't have categorical variables. However, if we want to check the descriptive statistics for categorical data we just need to use the method `.describe(include =['O'] `"
   ]
  },
  {
   "cell_type": "markdown",
   "metadata": {},
   "source": [
    "__`Step 7`__ What is the mean value of `BD4` when the target `DrugPlant` is equal to 0? And when is equal to 1?"
   ]
  },
  {
   "cell_type": "code",
   "execution_count": null,
   "metadata": {},
   "outputs": [],
   "source": [
    "drugs_truth.groupby('DrugPlant')['BD4'].mean()"
   ]
  },
  {
   "cell_type": "markdown",
   "metadata": {},
   "source": [
    "__`Step 8`__ How many observations do we have where DrugPlant is equal to 0? And to 1?"
   ]
  },
  {
   "cell_type": "code",
   "execution_count": null,
   "metadata": {},
   "outputs": [],
   "source": [
    "drugs_truth['DrugPlant'].value_counts()"
   ]
  },
  {
   "cell_type": "markdown",
   "metadata": {},
   "source": [
    "__`Step 9`__ How many observations do we have where `BD3` is equal to 15?"
   ]
  },
  {
   "cell_type": "code",
   "execution_count": null,
   "metadata": {},
   "outputs": [],
   "source": [
    "drugs_truth[drugs_truth['BD3'] == 15]"
   ]
  },
  {
   "cell_type": "markdown",
   "metadata": {},
   "source": [
    "__`Step 10`__ What is the pearson correlation between all the variables?"
   ]
  },
  {
   "cell_type": "code",
   "execution_count": null,
   "metadata": {},
   "outputs": [],
   "source": [
    "drugs_truth.corr(method = 'pearson')\n",
    "# drugs_truth.corr(method = 'spearman')"
   ]
  },
  {
   "cell_type": "markdown",
   "metadata": {},
   "source": [
    "# 4. Modify the data"
   ]
  },
  {
   "cell_type": "markdown",
   "metadata": {},
   "source": [
    "<img src=\"images/phase04.png\" alt=\"Drawing\" style=\"width: 500px;\"/>"
   ]
  },
  {
   "cell_type": "markdown",
   "metadata": {},
   "source": [
    "After the exploration and understanding of data, we need to fix possible problems on data like missing values or outliers and we can create new variables in order to get variables with higher predictive power. <br>\n",
    "At this moment, we are going to ignore this. <br>However, to create a predictive model we need to identify what are our independent variables and the dependent one (the target), as also we need to split our data into at least two different datasets - the train and the validation."
   ]
  },
  {
   "cell_type": "markdown",
   "metadata": {},
   "source": [
    "__`Step 11`__ Create a new dataset named as `X` that will include all the independent variables."
   ]
  },
  {
   "cell_type": "code",
   "execution_count": null,
   "metadata": {},
   "outputs": [],
   "source": [
    "X = drugs_truth.iloc[:,:-1]\n",
    "X"
   ]
  },
  {
   "cell_type": "markdown",
   "metadata": {},
   "source": [
    "__`Step 12`__ Create a new dataset named as `y` that will include the dependent variable (the last column - DrugPlant)"
   ]
  },
  {
   "cell_type": "code",
   "execution_count": null,
   "metadata": {},
   "outputs": [],
   "source": [
    "y = drugs_truth.iloc[:,-1]\n",
    "y"
   ]
  },
  {
   "cell_type": "markdown",
   "metadata": {},
   "source": [
    "__`Step 13`__ Using the `train_test_split()`, split the data into train and validation, where the training dataset should contain 70% of the observations. (We are going to talk more about this in a future class). "
   ]
  },
  {
   "cell_type": "code",
   "execution_count": null,
   "metadata": {},
   "outputs": [],
   "source": [
    "X_train, X_validation,y_train, y_validation = train_test_split(X,y,\n",
    "                                                               train_size = 0.7, \n",
    "                                                               shuffle = True, \n",
    "                                                               stratify = y)"
   ]
  },
  {
   "cell_type": "markdown",
   "metadata": {},
   "source": [
    "# 5. Modelling - Create a predictive model"
   ]
  },
  {
   "cell_type": "markdown",
   "metadata": {},
   "source": [
    "It is time to create a model. At this step, we are going to implement a simple algorithm named as \"Decision Trees\". "
   ]
  },
  {
   "cell_type": "markdown",
   "metadata": {},
   "source": [
    "<img src=\"images/phase05.png\" alt=\"Drawing\" style=\"width: 500px;\"/>"
   ]
  },
  {
   "cell_type": "markdown",
   "metadata": {},
   "source": [
    "__`Step 14`__ Create an instance of a DecisionTreeClassifier named as `dt` with the default parameters and fit the instance to the training data (again, we are going to talk more about this later)."
   ]
  },
  {
   "cell_type": "code",
   "execution_count": null,
   "metadata": {},
   "outputs": [],
   "source": [
    "dt = DecisionTreeClassifier().fit(X_train, y_train)"
   ]
  },
  {
   "cell_type": "markdown",
   "metadata": {},
   "source": [
    "__`Step 15`__ Using the model just created in the previous step, predict the values of the target in the train dataset using the method `.predict()`. Assign those values to the object `predictions_train`"
   ]
  },
  {
   "cell_type": "code",
   "execution_count": null,
   "metadata": {},
   "outputs": [],
   "source": [
    "predictions_train = dt.predict(X_train)\n",
    "predictions_train "
   ]
  },
  {
   "cell_type": "markdown",
   "metadata": {},
   "source": [
    "__`Step 16`__ Similarly to what you have done in the previous step, predict the target values for the validation dataset and assign those values to the object `predictions_val`"
   ]
  },
  {
   "cell_type": "code",
   "execution_count": null,
   "metadata": {},
   "outputs": [],
   "source": [
    "predictions_val = dt.predict(X_validation)\n",
    "predictions_val"
   ]
  },
  {
   "cell_type": "markdown",
   "metadata": {},
   "source": [
    "# 6. Assess"
   ]
  },
  {
   "cell_type": "markdown",
   "metadata": {},
   "source": [
    "We already have the ground truth and the predicted values. In this way we can start evaluating the performance of our model in the train and the validation dataset."
   ]
  },
  {
   "cell_type": "markdown",
   "metadata": {},
   "source": [
    "<img src=\"images/phase06.png\" alt=\"Drawing\" style=\"width: 500px;\"/>"
   ]
  },
  {
   "cell_type": "markdown",
   "metadata": {},
   "source": [
    "__`Step 17`__ Using the method `.score()`, check the mean accuracy of the model `dt`in the train dataset."
   ]
  },
  {
   "cell_type": "code",
   "execution_count": null,
   "metadata": {},
   "outputs": [],
   "source": [
    "dt.score(X_train, y_train)"
   ]
  },
  {
   "cell_type": "markdown",
   "metadata": {},
   "source": [
    "__`Step 18`__ Similarly to what you have done in step 17, check the mean accuracy now for the validation dataset."
   ]
  },
  {
   "cell_type": "code",
   "execution_count": null,
   "metadata": {},
   "outputs": [],
   "source": [
    "dt.score(X_validation, y_validation)"
   ]
  },
  {
   "cell_type": "markdown",
   "metadata": {},
   "source": [
    "Are we dealing with a case of __overfitting__? <br>\n",
    "Yes, decision trees are known to be prone to overfitting. <br>\n",
    "Luckily, there are strategies to avoid this problem. <br>\n",
    "We are going to understand better what is overfitting and how to avoid it in the different algorithms in the next classes."
   ]
  },
  {
   "cell_type": "markdown",
   "metadata": {},
   "source": [
    "It is time to check the confusion matrix of the model for the training and the validation dataset. <br> <br>\n",
    "__`Step 19`__ Check the confusion matrix for the training dataset, passing as parameters the ground truth (y_train) and the predicted values (predictions_train)<br>\n",
    "[[TN, FP],<br>\n",
    "[FN. TP]]"
   ]
  },
  {
   "cell_type": "code",
   "execution_count": null,
   "metadata": {},
   "outputs": [],
   "source": [
    "confusion_matrix(y_train, predictions_train)"
   ]
  },
  {
   "cell_type": "markdown",
   "metadata": {},
   "source": [
    "__`Step 20`__ Do the same for the validation dataset."
   ]
  },
  {
   "cell_type": "code",
   "execution_count": null,
   "metadata": {},
   "outputs": [],
   "source": [
    "confusion_matrix(y_validation, predictions_val)"
   ]
  },
  {
   "cell_type": "markdown",
   "metadata": {},
   "source": [
    "__Can we conclude something from the results above?__ <br>It seems that our model is not so good at predicting the 1's in the target. <br>__Why?__ <br>Because we are dealing with an unbalanced dataset (more about this in the future). \n",
    "\n",
    "We are going to learn also different metrics that allow to understant better the performance of our model in unbalanced datasets - the mean accuracy is not a good metric to evaluate those cases."
   ]
  },
  {
   "cell_type": "markdown",
   "metadata": {},
   "source": [
    "# 7. Deploy"
   ]
  },
  {
   "cell_type": "markdown",
   "metadata": {},
   "source": [
    "In the end, we want to classify the unclassified data. If we are already satisfied with our model, we can now predict the target to the new dataset."
   ]
  },
  {
   "cell_type": "markdown",
   "metadata": {},
   "source": [
    "__`Step 21`__ Check the dataset that we want to classify, imported as `drugs_2classify`"
   ]
  },
  {
   "cell_type": "code",
   "execution_count": null,
   "metadata": {},
   "outputs": [],
   "source": [
    "drugs_2classify"
   ]
  },
  {
   "cell_type": "markdown",
   "metadata": {},
   "source": [
    "__`Step 22`__ Using the `.predict()` method and the model created named as `dt`, predict the target on the new dataset and assign those values to a column named as `DrugPlant`"
   ]
  },
  {
   "cell_type": "code",
   "execution_count": null,
   "metadata": {},
   "outputs": [],
   "source": [
    "drugs_2classify['DrugPlant'] = dt.predict(drugs_2classify)"
   ]
  },
  {
   "cell_type": "markdown",
   "metadata": {},
   "source": [
    "__`Step 23`__ Check the new dataset."
   ]
  },
  {
   "cell_type": "code",
   "execution_count": null,
   "metadata": {},
   "outputs": [],
   "source": [
    "drugs_2classify"
   ]
  },
  {
   "cell_type": "markdown",
   "metadata": {},
   "source": [
    "Now we have already predicted the target for our new dataset!"
   ]
  }
 ],
 "metadata": {
  "kernelspec": {
   "display_name": "Python 3.10.8 64-bit",
   "language": "python",
   "name": "python3"
  },
  "language_info": {
   "codemirror_mode": {
    "name": "ipython",
    "version": 3
   },
   "file_extension": ".py",
   "mimetype": "text/x-python",
   "name": "python",
   "nbconvert_exporter": "python",
   "pygments_lexer": "ipython3",
   "version": "3.10.8"
  },
  "varInspector": {
   "cols": {
    "lenName": 16,
    "lenType": 16,
    "lenVar": 40
   },
   "kernels_config": {
    "python": {
     "delete_cmd_postfix": "",
     "delete_cmd_prefix": "del ",
     "library": "var_list.py",
     "varRefreshCmd": "print(var_dic_list())"
    },
    "r": {
     "delete_cmd_postfix": ") ",
     "delete_cmd_prefix": "rm(",
     "library": "var_list.r",
     "varRefreshCmd": "cat(var_dic_list()) "
    }
   },
   "types_to_exclude": [
    "module",
    "function",
    "builtin_function_or_method",
    "instance",
    "_Feature"
   ],
   "window_display": false
  },
  "vscode": {
   "interpreter": {
    "hash": "b0fa6594d8f4cbf19f97940f81e996739fb7646882a419484c72d19e05852a7e"
   }
  }
 },
 "nbformat": 4,
 "nbformat_minor": 4
}